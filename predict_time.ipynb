{
  "nbformat": 4,
  "nbformat_minor": 0,
  "metadata": {
    "colab": {
      "name": "predict_time.ipynb",
      "provenance": [],
      "collapsed_sections": [],
      "authorship_tag": "ABX9TyNqoKdpdafBg+7/Vs4YkEAE",
      "include_colab_link": true
    },
    "kernelspec": {
      "name": "python3",
      "display_name": "Python 3"
    }
  },
  "cells": [
    {
      "cell_type": "markdown",
      "metadata": {
        "id": "view-in-github",
        "colab_type": "text"
      },
      "source": [
        "<a href=\"https://colab.research.google.com/github/HuyKhoi-code/CS114.K21/blob/master/predict_time.ipynb\" target=\"_parent\"><img src=\"https://colab.research.google.com/assets/colab-badge.svg\" alt=\"Open In Colab\"/></a>"
      ]
    },
    {
      "cell_type": "markdown",
      "metadata": {
        "id": "Gt3LXtjLvxe-",
        "colab_type": "text"
      },
      "source": [
        "Lấy dữ liệu bằng pd.read_csv , sử dụng sep để phân biệt cột"
      ]
    },
    {
      "cell_type": "code",
      "metadata": {
        "id": "5GnQ7bcfJYho",
        "colab_type": "code",
        "outputId": "1953f27b-31e0-4979-d8d3-453f40251ad9",
        "colab": {
          "base_uri": "https://localhost:8080/",
          "height": 221
        }
      },
      "source": [
        "import pandas as pd\n",
        "import numpy as np \n",
        "data = pd.read_csv('http://cs.uit.edu.vn/data2.txt', sep = ',' , names=['input size','time'] )\n",
        "print(data.shape)\n",
        "data.head()"
      ],
      "execution_count": 1,
      "outputs": [
        {
          "output_type": "stream",
          "text": [
            "(71115, 2)\n"
          ],
          "name": "stdout"
        },
        {
          "output_type": "execute_result",
          "data": {
            "text/html": [
              "<div>\n",
              "<style scoped>\n",
              "    .dataframe tbody tr th:only-of-type {\n",
              "        vertical-align: middle;\n",
              "    }\n",
              "\n",
              "    .dataframe tbody tr th {\n",
              "        vertical-align: top;\n",
              "    }\n",
              "\n",
              "    .dataframe thead th {\n",
              "        text-align: right;\n",
              "    }\n",
              "</style>\n",
              "<table border=\"1\" class=\"dataframe\">\n",
              "  <thead>\n",
              "    <tr style=\"text-align: right;\">\n",
              "      <th></th>\n",
              "      <th>input size</th>\n",
              "      <th>time</th>\n",
              "    </tr>\n",
              "  </thead>\n",
              "  <tbody>\n",
              "    <tr>\n",
              "      <th>0</th>\n",
              "      <td>6083695</td>\n",
              "      <td>0.521842</td>\n",
              "    </tr>\n",
              "    <tr>\n",
              "      <th>1</th>\n",
              "      <td>1954367</td>\n",
              "      <td>0.152648</td>\n",
              "    </tr>\n",
              "    <tr>\n",
              "      <th>2</th>\n",
              "      <td>3734185</td>\n",
              "      <td>0.298548</td>\n",
              "    </tr>\n",
              "    <tr>\n",
              "      <th>3</th>\n",
              "      <td>5839301</td>\n",
              "      <td>0.460480</td>\n",
              "    </tr>\n",
              "    <tr>\n",
              "      <th>4</th>\n",
              "      <td>6343427</td>\n",
              "      <td>0.527977</td>\n",
              "    </tr>\n",
              "  </tbody>\n",
              "</table>\n",
              "</div>"
            ],
            "text/plain": [
              "   input size      time\n",
              "0     6083695  0.521842\n",
              "1     1954367  0.152648\n",
              "2     3734185  0.298548\n",
              "3     5839301  0.460480\n",
              "4     6343427  0.527977"
            ]
          },
          "metadata": {
            "tags": []
          },
          "execution_count": 1
        }
      ]
    },
    {
      "cell_type": "markdown",
      "metadata": {
        "id": "N5_vQzYkw35Z",
        "colab_type": "text"
      },
      "source": [
        "tạo thêm features từ 1 feature để tăng độ chính xác khi đánh giá "
      ]
    },
    {
      "cell_type": "code",
      "metadata": {
        "id": "M7RQqkIA6XeR",
        "colab_type": "code",
        "outputId": "974f357e-41b6-4050-8660-79e8ffe4f065",
        "colab": {
          "base_uri": "https://localhost:8080/",
          "height": 204
        }
      },
      "source": [
        "data[\"size^2\"] = data['input size'] * data['input size']\n",
        "data[\"size*log(size)\"] = data['input size'] * np.log10(data['input size'])\n",
        "columns_title = ['input size' , 'size^2' , 'size*log(size)' , 'time']\n",
        "data = data.reindex(columns = columns_title)\n",
        "data.head()"
      ],
      "execution_count": 2,
      "outputs": [
        {
          "output_type": "execute_result",
          "data": {
            "text/html": [
              "<div>\n",
              "<style scoped>\n",
              "    .dataframe tbody tr th:only-of-type {\n",
              "        vertical-align: middle;\n",
              "    }\n",
              "\n",
              "    .dataframe tbody tr th {\n",
              "        vertical-align: top;\n",
              "    }\n",
              "\n",
              "    .dataframe thead th {\n",
              "        text-align: right;\n",
              "    }\n",
              "</style>\n",
              "<table border=\"1\" class=\"dataframe\">\n",
              "  <thead>\n",
              "    <tr style=\"text-align: right;\">\n",
              "      <th></th>\n",
              "      <th>input size</th>\n",
              "      <th>size^2</th>\n",
              "      <th>size*log(size)</th>\n",
              "      <th>time</th>\n",
              "    </tr>\n",
              "  </thead>\n",
              "  <tbody>\n",
              "    <tr>\n",
              "      <th>0</th>\n",
              "      <td>6083695</td>\n",
              "      <td>37011344853025</td>\n",
              "      <td>4.127281e+07</td>\n",
              "      <td>0.521842</td>\n",
              "    </tr>\n",
              "    <tr>\n",
              "      <th>1</th>\n",
              "      <td>1954367</td>\n",
              "      <td>3819550370689</td>\n",
              "      <td>1.229493e+07</td>\n",
              "      <td>0.152648</td>\n",
              "    </tr>\n",
              "    <tr>\n",
              "      <th>2</th>\n",
              "      <td>3734185</td>\n",
              "      <td>13944137614225</td>\n",
              "      <td>2.454180e+07</td>\n",
              "      <td>0.298548</td>\n",
              "    </tr>\n",
              "    <tr>\n",
              "      <th>3</th>\n",
              "      <td>5839301</td>\n",
              "      <td>34097436168601</td>\n",
              "      <td>3.951082e+07</td>\n",
              "      <td>0.460480</td>\n",
              "    </tr>\n",
              "    <tr>\n",
              "      <th>4</th>\n",
              "      <td>6343427</td>\n",
              "      <td>40239066104329</td>\n",
              "      <td>4.315005e+07</td>\n",
              "      <td>0.527977</td>\n",
              "    </tr>\n",
              "  </tbody>\n",
              "</table>\n",
              "</div>"
            ],
            "text/plain": [
              "   input size          size^2  size*log(size)      time\n",
              "0     6083695  37011344853025    4.127281e+07  0.521842\n",
              "1     1954367   3819550370689    1.229493e+07  0.152648\n",
              "2     3734185  13944137614225    2.454180e+07  0.298548\n",
              "3     5839301  34097436168601    3.951082e+07  0.460480\n",
              "4     6343427  40239066104329    4.315005e+07  0.527977"
            ]
          },
          "metadata": {
            "tags": []
          },
          "execution_count": 2
        }
      ]
    },
    {
      "cell_type": "code",
      "metadata": {
        "id": "7HE2c_LCKMCU",
        "colab_type": "code",
        "colab": {}
      },
      "source": [
        "from pandas.plotting import scatter_matrix\n",
        "from matplotlib import pyplot"
      ],
      "execution_count": 0,
      "outputs": []
    },
    {
      "cell_type": "markdown",
      "metadata": {
        "id": "bJEXiacBwC8G",
        "colab_type": "text"
      },
      "source": [
        "đồ thị bảng dữ liệu "
      ]
    },
    {
      "cell_type": "code",
      "metadata": {
        "id": "rV6Go2eaKUSC",
        "colab_type": "code",
        "outputId": "105fe687-719f-4f0e-f9ce-4fdff5b9c97c",
        "colab": {
          "base_uri": "https://localhost:8080/",
          "height": 277
        }
      },
      "source": [
        "scatter_matrix(data)\n",
        "pyplot.show()"
      ],
      "execution_count": 4,
      "outputs": [
        {
          "output_type": "display_data",
          "data": {
            "image/png": "[encoded data removed]",
            "text/plain": [
              "<Figure size 432x288 with 16 Axes>"
            ]
          },
          "metadata": {
            "tags": [],
            "needs_background": "light"
          }
        }
      ]
    },
    {
      "cell_type": "code",
      "metadata": {
        "id": "W0gIv0mtKaGs",
        "colab_type": "code",
        "colab": {}
      },
      "source": [
        "from sklearn.model_selection import train_test_split"
      ],
      "execution_count": 0,
      "outputs": []
    },
    {
      "cell_type": "code",
      "metadata": {
        "id": "3kaqCpS_wHZ7",
        "colab_type": "code",
        "colab": {}
      },
      "source": [
        "phân tách bảng để lấy các features cần cho dự đoán"
      ],
      "execution_count": 0,
      "outputs": []
    },
    {
      "cell_type": "code",
      "metadata": {
        "id": "kSuK6PDX8UkM",
        "colab_type": "code",
        "outputId": "4bbbe12e-c1c6-480b-81af-a1d432d7cbac",
        "colab": {
          "base_uri": "https://localhost:8080/",
          "height": 34
        }
      },
      "source": [
        "X = data.iloc[:,0:3]\n",
        "y = data.iloc[:,3]\n",
        "print (X.shape , y.shape)"
      ],
      "execution_count": 6,
      "outputs": [
        {
          "output_type": "stream",
          "text": [
            "(71115, 3) (71115,)\n"
          ],
          "name": "stdout"
        }
      ]
    },
    {
      "cell_type": "markdown",
      "metadata": {
        "id": "6fAKpleLwRHU",
        "colab_type": "text"
      },
      "source": [
        "phân chia dữ liệu train và valid với tỉ lệ 8/2"
      ]
    },
    {
      "cell_type": "code",
      "metadata": {
        "id": "3WzOSd4KKirs",
        "colab_type": "code",
        "outputId": "f0035958-b426-4684-a512-af1cb530f0ba",
        "colab": {
          "base_uri": "https://localhost:8080/",
          "height": 34
        }
      },
      "source": [
        "#print (X.head , y.head)\n",
        "X_train , X_valid , y_train , y_valid = train_test_split(X , y , test_size = 0.20 , random_state=1)\n",
        "\"\"\"X_train = X_train.values.reshape(-1,1)\n",
        "X_valid = X_valid.values.reshape(-1,1)\n",
        "y_train = y_train.values.reshape(-1,1)\n",
        "y_valid = y_valid.values.reshape(-1,1)\"\"\""
      ],
      "execution_count": 7,
      "outputs": [
        {
          "output_type": "execute_result",
          "data": {
            "text/plain": [
              "'X_train = X_train.values.reshape(-1,1)\\nX_valid = X_valid.values.reshape(-1,1)\\ny_train = y_train.values.reshape(-1,1)\\ny_valid = y_valid.values.reshape(-1,1)'"
            ]
          },
          "metadata": {
            "tags": []
          },
          "execution_count": 7
        }
      ]
    },
    {
      "cell_type": "markdown",
      "metadata": {
        "id": "AZFLrDr5wZis",
        "colab_type": "text"
      },
      "source": [
        "Khảo sát mô hình với 3 thuật toán hồi quy đơn giản nhất "
      ]
    },
    {
      "cell_type": "code",
      "metadata": {
        "id": "eag3brO6Lr15",
        "colab_type": "code",
        "colab": {}
      },
      "source": [
        "from sklearn.tree import DecisionTreeRegressor\n",
        "from sklearn.ensemble import RandomForestRegressor\n",
        "from sklearn.linear_model import LinearRegression\n",
        "from sklearn.metrics import mean_absolute_error"
      ],
      "execution_count": 0,
      "outputs": []
    },
    {
      "cell_type": "markdown",
      "metadata": {
        "id": "1asLayZPwgJ6",
        "colab_type": "text"
      },
      "source": [
        "đánh giả, tìm ra mô hình tốt nhất bằng cách sử dụng sai số tuyệt đối: mean absolute error"
      ]
    },
    {
      "cell_type": "code",
      "metadata": {
        "id": "yAXrYH64-yk7",
        "colab_type": "code",
        "outputId": "7db79556-26ed-4f82-a82b-1985e3ef85dd",
        "colab": {
          "base_uri": "https://localhost:8080/",
          "height": 68
        }
      },
      "source": [
        "models = []\n",
        "models.append(('DT' , DecisionTreeRegressor(max_depth = 10 , random_state = 1)))\n",
        "models.append(('RF' , RandomForestRegressor(n_estimators= 25 , random_state = 1)))\n",
        "models.append(('LR' , LinearRegression()))\n",
        "result = []\n",
        "names = []\n",
        "for name , model in models:\n",
        "  model.fit(X_train , y_train)\n",
        "  val_pred = model.predict(X_valid)\n",
        "  Test_result = mean_absolute_error(val_pred , y_valid)\n",
        "  print (name , Test_result)"
      ],
      "execution_count": 9,
      "outputs": [
        {
          "output_type": "stream",
          "text": [
            "DT 0.007182720852292817\n",
            "RF 0.00849929349745915\n",
            "LR 0.006896127387182563\n"
          ],
          "name": "stdout"
        }
      ]
    },
    {
      "cell_type": "markdown",
      "metadata": {
        "id": "WCj04aGZRy4Y",
        "colab_type": "text"
      },
      "source": [
        "Linear regression is the best model"
      ]
    },
    {
      "cell_type": "markdown",
      "metadata": {
        "id": "XXcKzE22R8YN",
        "colab_type": "text"
      },
      "source": [
        "Predict new data"
      ]
    },
    {
      "cell_type": "code",
      "metadata": {
        "id": "B1uq_K0cudmV",
        "colab_type": "code",
        "colab": {
          "base_uri": "https://localhost:8080/",
          "height": 51
        },
        "outputId": "8399a82f-272d-4cb3-8254-ccdfc83213b9"
      },
      "source": [
        "LR_model = LinearRegression()\n",
        "LR_model.fit(X_train , y_train)\n",
        "val_pred_1 = LR_model.predict(X_valid)\n",
        "print (val_pred_1[:3])\n",
        "print (mean_absolute_error(val_pred_1 , y_valid))"
      ],
      "execution_count": 15,
      "outputs": [
        {
          "output_type": "stream",
          "text": [
            "[0.3535208  0.74490516 0.78588411]\n",
            "0.006896127387182563\n"
          ],
          "name": "stdout"
        }
      ]
    },
    {
      "cell_type": "code",
      "metadata": {
        "id": "DfupIEAyR4O2",
        "colab_type": "code",
        "outputId": "b80ec885-68cd-4807-e74b-84589c6c5bb8",
        "colab": {
          "base_uri": "https://localhost:8080/",
          "height": 34
        }
      },
      "source": [
        "new_data = {'input size':[2055486] ,\n",
        "            'size^2':[2055486*561616],\n",
        "            'size*log(size)': [2055486*np.log10(2055486)]}\n",
        "data_convert=pd.DataFrame.from_dict(new_data) \n",
        "print (LR_model.predict(data_convert))"
      ],
      "execution_count": 16,
      "outputs": [
        {
          "output_type": "stream",
          "text": [
            "[0.15662721]\n"
          ],
          "name": "stdout"
        }
      ]
    },
    {
      "cell_type": "markdown",
      "metadata": {
        "id": "Y9Cxbak4wsHv",
        "colab_type": "text"
      },
      "source": [
        "test độ chính xác của mô hình bằng cách so sánh với giá trị thực"
      ]
    },
    {
      "cell_type": "code",
      "metadata": {
        "id": "UkFkKNKivPMx",
        "colab_type": "code",
        "colab": {
          "base_uri": "https://localhost:8080/",
          "height": 34
        },
        "outputId": "7f90e909-69c2-44ac-8d31-22d161856b16"
      },
      "source": [
        "new_data_2 = {'input size':[5839301] ,\n",
        "            'size^2':[5839301*5839301],\n",
        "            'size*log(size)': [5839301*np.log10(5839301)]}\n",
        "data_convert_2=pd.DataFrame.from_dict(new_data_2) \n",
        "print (LR_model.predict(data_convert_2))\n",
        "# real time = 0.460480"
      ],
      "execution_count": 19,
      "outputs": [
        {
          "output_type": "stream",
          "text": [
            "[0.47407958]\n"
          ],
          "name": "stdout"
        }
      ]
    }
  ]
}