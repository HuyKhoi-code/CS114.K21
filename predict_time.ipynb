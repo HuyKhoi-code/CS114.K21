{
  "nbformat": 4,
  "nbformat_minor": 0,
  "metadata": {
    "colab": {
      "name": "predict_time.ipynb",
      "provenance": [],
      "collapsed_sections": [],
      "authorship_tag": "ABX9TyP6SrjOi9eMQavwirckyI+o",
      "include_colab_link": true
    },
    "kernelspec": {
      "name": "python3",
      "display_name": "Python 3"
    }
  },
  "cells": [
    {
      "cell_type": "markdown",
      "metadata": {
        "id": "view-in-github",
        "colab_type": "text"
      },
      "source": [
        "<a href=\"https://colab.research.google.com/github/HuyKhoi-code/CS114.K21/blob/master/predict_time.ipynb\" target=\"_parent\"><img src=\"https://colab.research.google.com/assets/colab-badge.svg\" alt=\"Open In Colab\"/></a>"
      ]
    },
    {
      "cell_type": "markdown",
      "metadata": {
        "id": "Gt3LXtjLvxe-",
        "colab_type": "text"
      },
      "source": [
        "Lấy dữ liệu bằng pd.read_csv , sử dụng sep để phân biệt cột"
      ]
    },
    {
      "cell_type": "code",
      "metadata": {
        "id": "5GnQ7bcfJYho",
        "colab_type": "code",
        "outputId": "3cd613a3-b1f0-4fe4-e3cd-79e439944189",
        "colab": {
          "base_uri": "https://localhost:8080/",
          "height": 221
        }
      },
      "source": [
        "import pandas as pd\n",
        "import numpy as np \n",
        "data = pd.read_csv('http://cs.uit.edu.vn/data2.txt', sep = ',' , names=['input size','time'] )\n",
        "print(data.shape)\n",
        "data.head()"
      ],
      "execution_count": 22,
      "outputs": [
        {
          "output_type": "stream",
          "text": [
            "(71115, 2)\n"
          ],
          "name": "stdout"
        },
        {
          "output_type": "execute_result",
          "data": {
            "text/html": [
              "<div>\n",
              "<style scoped>\n",
              "    .dataframe tbody tr th:only-of-type {\n",
              "        vertical-align: middle;\n",
              "    }\n",
              "\n",
              "    .dataframe tbody tr th {\n",
              "        vertical-align: top;\n",
              "    }\n",
              "\n",
              "    .dataframe thead th {\n",
              "        text-align: right;\n",
              "    }\n",
              "</style>\n",
              "<table border=\"1\" class=\"dataframe\">\n",
              "  <thead>\n",
              "    <tr style=\"text-align: right;\">\n",
              "      <th></th>\n",
              "      <th>input size</th>\n",
              "      <th>time</th>\n",
              "    </tr>\n",
              "  </thead>\n",
              "  <tbody>\n",
              "    <tr>\n",
              "      <th>0</th>\n",
              "      <td>6083695</td>\n",
              "      <td>0.521842</td>\n",
              "    </tr>\n",
              "    <tr>\n",
              "      <th>1</th>\n",
              "      <td>1954367</td>\n",
              "      <td>0.152648</td>\n",
              "    </tr>\n",
              "    <tr>\n",
              "      <th>2</th>\n",
              "      <td>3734185</td>\n",
              "      <td>0.298548</td>\n",
              "    </tr>\n",
              "    <tr>\n",
              "      <th>3</th>\n",
              "      <td>5839301</td>\n",
              "      <td>0.460480</td>\n",
              "    </tr>\n",
              "    <tr>\n",
              "      <th>4</th>\n",
              "      <td>6343427</td>\n",
              "      <td>0.527977</td>\n",
              "    </tr>\n",
              "  </tbody>\n",
              "</table>\n",
              "</div>"
            ],
            "text/plain": [
              "   input size      time\n",
              "0     6083695  0.521842\n",
              "1     1954367  0.152648\n",
              "2     3734185  0.298548\n",
              "3     5839301  0.460480\n",
              "4     6343427  0.527977"
            ]
          },
          "metadata": {
            "tags": []
          },
          "execution_count": 22
        }
      ]
    },
    {
      "cell_type": "markdown",
      "metadata": {
        "id": "N5_vQzYkw35Z",
        "colab_type": "text"
      },
      "source": [
        "tạo thêm features từ 1 feature để tăng độ chính xác khi đánh giá "
      ]
    },
    {
      "cell_type": "code",
      "metadata": {
        "id": "7HE2c_LCKMCU",
        "colab_type": "code",
        "colab": {}
      },
      "source": [
        "from pandas.plotting import scatter_matrix\n",
        "from matplotlib import pyplot"
      ],
      "execution_count": 0,
      "outputs": []
    },
    {
      "cell_type": "markdown",
      "metadata": {
        "id": "bJEXiacBwC8G",
        "colab_type": "text"
      },
      "source": [
        "đồ thị bảng dữ liệu "
      ]
    },
    {
      "cell_type": "code",
      "metadata": {
        "id": "rV6Go2eaKUSC",
        "colab_type": "code",
        "outputId": "18af4009-bb7f-4eef-f2fd-51fa75b7f769",
        "colab": {
          "base_uri": "https://localhost:8080/",
          "height": 288
        }
      },
      "source": [
        "scatter_matrix(data)\n",
        "pyplot.show()"
      ],
      "execution_count": 24,
      "outputs": [
        {
          "output_type": "display_data",
          "data": {
            "image/png": "[encoded data removed]",
            "text/plain": [
              "<Figure size 432x288 with 4 Axes>"
            ]
          },
          "metadata": {
            "tags": [],
            "needs_background": "light"
          }
        }
      ]
    },
    {
      "cell_type": "code",
      "metadata": {
        "id": "W0gIv0mtKaGs",
        "colab_type": "code",
        "colab": {}
      },
      "source": [
        "from sklearn.model_selection import train_test_split"
      ],
      "execution_count": 0,
      "outputs": []
    },
    {
      "cell_type": "markdown",
      "metadata": {
        "id": "m8ttSnCpzPxC",
        "colab_type": "text"
      },
      "source": [
        "phân tách bảng để lấy các features cần cho dự đoán"
      ]
    },
    {
      "cell_type": "markdown",
      "metadata": {
        "id": "6fAKpleLwRHU",
        "colab_type": "text"
      },
      "source": [
        "phân chia dữ liệu train và valid với tỉ lệ 8/2 "
      ]
    },
    {
      "cell_type": "markdown",
      "metadata": {
        "id": "rg-ywJQAzWpm",
        "colab_type": "text"
      },
      "source": [
        "reshape lại dữ liệu vì lúc này dữ liệu đang ở dạng array 1 chiều "
      ]
    },
    {
      "cell_type": "code",
      "metadata": {
        "id": "A8Hw_nfa0ZGl",
        "colab_type": "code",
        "colab": {}
      },
      "source": [
        "X=data['input size']\n",
        "y=data['time']"
      ],
      "execution_count": 0,
      "outputs": []
    },
    {
      "cell_type": "code",
      "metadata": {
        "id": "3WzOSd4KKirs",
        "colab_type": "code",
        "colab": {}
      },
      "source": [
        "#print (X.head , y.head)\n",
        "X_train , X_valid , y_train , y_valid = train_test_split(X , y , test_size = 0.20 , random_state=1)\n",
        "X_train = X_train.values.reshape(-1,1)\n",
        "X_valid = X_valid.values.reshape(-1,1)\n",
        "y_train = y_train.values.reshape(-1,1)\n",
        "y_valid = y_valid.values.reshape(-1,1)"
      ],
      "execution_count": 0,
      "outputs": []
    },
    {
      "cell_type": "code",
      "metadata": {
        "id": "JLlSBGja0M3n",
        "colab_type": "code",
        "colab": {
          "base_uri": "https://localhost:8080/",
          "height": 34
        },
        "outputId": "7ae13e59-967a-4c91-ef10-7cc85cda6878"
      },
      "source": [
        "print (X_train.shape, y_train.shape)"
      ],
      "execution_count": 38,
      "outputs": [
        {
          "output_type": "stream",
          "text": [
            "(56892, 1) (56892, 1)\n"
          ],
          "name": "stdout"
        }
      ]
    },
    {
      "cell_type": "markdown",
      "metadata": {
        "id": "AZFLrDr5wZis",
        "colab_type": "text"
      },
      "source": [
        "Khảo sát mô hình với 3 thuật toán hồi quy đơn giản nhất "
      ]
    },
    {
      "cell_type": "code",
      "metadata": {
        "id": "eag3brO6Lr15",
        "colab_type": "code",
        "colab": {}
      },
      "source": [
        "from sklearn.tree import DecisionTreeRegressor\n",
        "from sklearn.ensemble import RandomForestRegressor\n",
        "from sklearn.linear_model import LinearRegression\n",
        "from sklearn.metrics import mean_absolute_error"
      ],
      "execution_count": 0,
      "outputs": []
    },
    {
      "cell_type": "markdown",
      "metadata": {
        "id": "1asLayZPwgJ6",
        "colab_type": "text"
      },
      "source": [
        "đánh giả, tìm ra mô hình tốt nhất bằng cách sử dụng sai số tuyệt đối: mean absolute error"
      ]
    },
    {
      "cell_type": "code",
      "metadata": {
        "id": "yAXrYH64-yk7",
        "colab_type": "code",
        "outputId": "755bcd14-1b64-49b9-b8d6-c744a8903dfb",
        "colab": {
          "base_uri": "https://localhost:8080/",
          "height": 122
        }
      },
      "source": [
        "models = []\n",
        "models.append(('DT' , DecisionTreeRegressor( random_state = 1)))\n",
        "models.append(('RF' , RandomForestRegressor( random_state = 1)))\n",
        "models.append(('LR' , LinearRegression()))\n",
        "result = []\n",
        "names = []\n",
        "for name , model in models:\n",
        "  model.fit(X_train , y_train)\n",
        "  val_pred = model.predict(X_valid)\n",
        "  Test_result = mean_absolute_error(val_pred , y_valid)\n",
        "  print (name , Test_result)"
      ],
      "execution_count": 39,
      "outputs": [
        {
          "output_type": "stream",
          "text": [
            "DT 0.009799554658390212\n"
          ],
          "name": "stdout"
        },
        {
          "output_type": "stream",
          "text": [
            "/usr/local/lib/python3.6/dist-packages/ipykernel_launcher.py:8: DataConversionWarning: A column-vector y was passed when a 1d array was expected. Please change the shape of y to (n_samples,), for example using ravel().\n",
            "  \n"
          ],
          "name": "stderr"
        },
        {
          "output_type": "stream",
          "text": [
            "RF 0.008454977149932036\n",
            "LR 0.00831551754510758\n"
          ],
          "name": "stdout"
        }
      ]
    },
    {
      "cell_type": "markdown",
      "metadata": {
        "id": "WCj04aGZRy4Y",
        "colab_type": "text"
      },
      "source": [
        "Linear regression is the best model"
      ]
    },
    {
      "cell_type": "markdown",
      "metadata": {
        "id": "XXcKzE22R8YN",
        "colab_type": "text"
      },
      "source": [
        "Predict new data"
      ]
    },
    {
      "cell_type": "code",
      "metadata": {
        "id": "B1uq_K0cudmV",
        "colab_type": "code",
        "colab": {
          "base_uri": "https://localhost:8080/",
          "height": 153
        },
        "outputId": "39a4b1ae-b221-488c-9964-7ab5c8398599"
      },
      "source": [
        "LR_model = LinearRegression()\n",
        "LR_model.fit(X_train , y_train)\n",
        "val_pred_1 = LR_model.predict(X_valid)\n",
        "print (val_pred_1)\n",
        "print (mean_absolute_error(val_pred_1 , y_valid))"
      ],
      "execution_count": 40,
      "outputs": [
        {
          "output_type": "stream",
          "text": [
            "[[0.35839721]\n",
            " [0.74078372]\n",
            " [0.78008414]\n",
            " ...\n",
            " [0.23839035]\n",
            " [0.44522958]\n",
            " [0.25019853]]\n",
            "0.00831551754510758\n"
          ],
          "name": "stdout"
        }
      ]
    },
    {
      "cell_type": "markdown",
      "metadata": {
        "id": "Y9Cxbak4wsHv",
        "colab_type": "text"
      },
      "source": [
        "test độ chính xác của mô hình bằng cách so sánh với giá trị thực"
      ]
    },
    {
      "cell_type": "code",
      "metadata": {
        "id": "UkFkKNKivPMx",
        "colab_type": "code",
        "colab": {
          "base_uri": "https://localhost:8080/",
          "height": 34
        },
        "outputId": "5d3f43e9-586d-4636-97dd-8c87939ed276"
      },
      "source": [
        "new_data_2 = {'input size':[5839301] }\n",
        "data_convert_2=pd.DataFrame.from_dict(new_data_2) \n",
        "print (LR_model.predict(data_convert_2))\n",
        "# real time = 0.460480"
      ],
      "execution_count": 41,
      "outputs": [
        {
          "output_type": "stream",
          "text": [
            "[[0.47783484]]\n"
          ],
          "name": "stdout"
        }
      ]
    }
  ]
}